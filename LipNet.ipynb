{
 "cells": [
  {
   "cell_type": "markdown",
   "id": "a3573a47-3689-4668-b62f-5c8451b2b4e9",
   "metadata": {
    "tags": []
   },
   "source": [
    "# 0. Install and Import Dependencies"
   ]
  },
  {
   "cell_type": "code",
   "execution_count": 1,
   "id": "b24af50c-20b8-409d-ad78-30a933fdd669",
   "metadata": {
    "tags": []
   },
   "outputs": [],
   "source": [
    "import os\n",
    "import cv2\n",
    "import tensorflow as tf\n",
    "import numpy as np\n",
    "from typing import List\n",
    "from matplotlib import pyplot as plt\n",
    "import imageio"
   ]
  },
  {
   "cell_type": "markdown",
   "id": "7a19e88e-c7b9-45c1-ae1e-f2109329c71b",
   "metadata": {
    "tags": []
   },
   "source": [
    "# 1. Build Data Loading Functions"
   ]
  },
  {
   "cell_type": "code",
   "execution_count": 2,
   "id": "8548cc59-6dfc-4acc-abc3-3e65212db02e",
   "metadata": {
    "tags": []
   },
   "outputs": [],
   "source": [
    "def load_video(path:str) -> List[float]: \n",
    "\n",
    "    cap = cv2.VideoCapture(path)\n",
    "    frames = []\n",
    "    for _ in range(int(cap.get(cv2.CAP_PROP_FRAME_COUNT))): \n",
    "        ret, frame = cap.read()\n",
    "        frame = tf.image.rgb_to_grayscale(frame)\n",
    "        frames.append(frame[190:236,80:220,:])\n",
    "    cap.release()\n",
    "    \n",
    "    mean = tf.math.reduce_mean(frames)\n",
    "    std = tf.math.reduce_std(tf.cast(frames, tf.float32))\n",
    "    return tf.cast((frames - mean), tf.float32) / std"
   ]
  },
  {
   "cell_type": "code",
   "execution_count": 3,
   "id": "ec735e0b-ec98-4eb0-8f49-c35527d6670a",
   "metadata": {
    "tags": []
   },
   "outputs": [],
   "source": [
    "vocab = [x for x in \"abcdefghijklmnopqrstuvwxyz'?!123456789 \"]"
   ]
  },
  {
   "cell_type": "code",
   "execution_count": 4,
   "id": "dc4eab93",
   "metadata": {},
   "outputs": [
    {
     "name": "stdout",
     "output_type": "stream",
     "text": [
      "The vocabulary is: ['', 'a', 'b', 'c', 'd', 'e', 'f', 'g', 'h', 'i', 'j', 'k', 'l', 'm', 'n', 'o', 'p', 'q', 'r', 's', 't', 'u', 'v', 'w', 'x', 'y', 'z', \"'\", '?', '!', '1', '2', '3', '4', '5', '6', '7', '8', '9', ' '] (size =40)\n"
     ]
    }
   ],
   "source": [
    "char_to_num = tf.keras.layers.StringLookup(vocabulary=vocab, oov_token=\"\")\n",
    "num_to_char = tf.keras.layers.StringLookup(\n",
    "    vocabulary=char_to_num.get_vocabulary(), oov_token=\"\", invert=True\n",
    ")\n",
    "\n",
    "print(\n",
    "    f\"The vocabulary is: {char_to_num.get_vocabulary()} \"\n",
    "    f\"(size ={char_to_num.vocabulary_size()})\"\n",
    ")"
   ]
  },
  {
   "cell_type": "code",
   "execution_count": 5,
   "id": "559f7420-6802-45fa-9ca0-b1ff209b461c",
   "metadata": {
    "tags": []
   },
   "outputs": [
    {
     "data": {
      "text/plain": [
       "['',\n",
       " 'a',\n",
       " 'b',\n",
       " 'c',\n",
       " 'd',\n",
       " 'e',\n",
       " 'f',\n",
       " 'g',\n",
       " 'h',\n",
       " 'i',\n",
       " 'j',\n",
       " 'k',\n",
       " 'l',\n",
       " 'm',\n",
       " 'n',\n",
       " 'o',\n",
       " 'p',\n",
       " 'q',\n",
       " 'r',\n",
       " 's',\n",
       " 't',\n",
       " 'u',\n",
       " 'v',\n",
       " 'w',\n",
       " 'x',\n",
       " 'y',\n",
       " 'z',\n",
       " \"'\",\n",
       " '?',\n",
       " '!',\n",
       " '1',\n",
       " '2',\n",
       " '3',\n",
       " '4',\n",
       " '5',\n",
       " '6',\n",
       " '7',\n",
       " '8',\n",
       " '9',\n",
       " ' ']"
      ]
     },
     "execution_count": 5,
     "metadata": {},
     "output_type": "execute_result"
    }
   ],
   "source": [
    "char_to_num.get_vocabulary()"
   ]
  },
  {
   "cell_type": "code",
   "execution_count": 6,
   "id": "797ff78b-b48f-4e14-bb62-8cd0ebf9501a",
   "metadata": {
    "tags": []
   },
   "outputs": [
    {
     "data": {
      "text/plain": [
       "<tf.Tensor: shape=(4,), dtype=int64, numpy=array([14,  9,  3, 11], dtype=int64)>"
      ]
     },
     "execution_count": 6,
     "metadata": {},
     "output_type": "execute_result"
    }
   ],
   "source": [
    "char_to_num(['n','i','c','k'])"
   ]
  },
  {
   "cell_type": "code",
   "execution_count": 7,
   "id": "8cd7f4f4-ae77-4509-a4f4-c723787ebad1",
   "metadata": {},
   "outputs": [
    {
     "data": {
      "text/plain": [
       "<tf.Tensor: shape=(4,), dtype=string, numpy=array([b'n', b'i', b'c', b'k'], dtype=object)>"
      ]
     },
     "execution_count": 7,
     "metadata": {},
     "output_type": "execute_result"
    }
   ],
   "source": [
    "num_to_char([14,  9,  3, 11])"
   ]
  },
  {
   "cell_type": "code",
   "execution_count": 8,
   "id": "9491bab5-6a3c-4f79-879a-8f9fbe73ae2e",
   "metadata": {
    "tags": []
   },
   "outputs": [],
   "source": [
    "def load_alignments(path:str) -> List[str]: \n",
    "    with open(path, 'r') as f: \n",
    "        lines = f.readlines() \n",
    "    tokens = []\n",
    "    for line in lines:\n",
    "        line = line.split()\n",
    "        if line[2] != 'sil': \n",
    "            tokens = [*tokens,' ',line[2]]\n",
    "    return char_to_num(tf.reshape(tf.strings.unicode_split(tokens, input_encoding='UTF-8'), (-1)))[1:]"
   ]
  },
  {
   "cell_type": "code",
   "execution_count": 9,
   "id": "dd01ca9f-77fb-4643-a2aa-47dd82c5d66b",
   "metadata": {
    "tags": []
   },
   "outputs": [],
   "source": [
    "def load_data(path: str): \n",
    "    path = bytes.decode(path.numpy())\n",
    "    #file_name = path.split('/')[-1].split('.')[0]\n",
    "    # File name splitting for windows\n",
    "    file_name = path.split('\\\\')[-1].split('.')[0]\n",
    "    video_path = os.path.join('data','s1',f'{file_name}.mpg')\n",
    "    alignment_path = os.path.join('data','alignments','s1',f'{file_name}.align')\n",
    "    frames = load_video(video_path) \n",
    "    alignments = load_alignments(alignment_path)\n",
    "    \n",
    "    return frames, alignments"
   ]
  },
  {
   "cell_type": "code",
   "execution_count": 10,
   "id": "8cb7cc58-31ae-4904-a805-1177a82717d2",
   "metadata": {
    "tags": []
   },
   "outputs": [],
   "source": [
    "test_path = '.\\\\data\\\\s1\\\\bbal6n.mpg'"
   ]
  },
  {
   "cell_type": "code",
   "execution_count": 11,
   "id": "76aa964f-0c84-490d-897a-d00e3966e2c9",
   "metadata": {},
   "outputs": [
    {
     "data": {
      "text/plain": [
       "'bbal6n'"
      ]
     },
     "execution_count": 11,
     "metadata": {},
     "output_type": "execute_result"
    }
   ],
   "source": [
    "tf.convert_to_tensor(test_path).numpy().decode('utf-8').split('\\\\')[-1].split('.')[0]"
   ]
  },
  {
   "cell_type": "code",
   "execution_count": 12,
   "id": "eb602c71-8560-4f9e-b26b-08202febb937",
   "metadata": {
    "scrolled": true,
    "tags": []
   },
   "outputs": [],
   "source": [
    "frames, alignments = load_data(tf.convert_to_tensor(test_path))"
   ]
  },
  {
   "cell_type": "code",
   "execution_count": 13,
   "id": "0e3184a1-6b02-4b4f-84a8-a0a65f951ea2",
   "metadata": {},
   "outputs": [
    {
     "data": {
      "text/plain": [
       "<matplotlib.image.AxesImage at 0x1d643a18c90>"
      ]
     },
     "execution_count": 13,
     "metadata": {},
     "output_type": "execute_result"
    },
    {
     "data": {
      "image/png": "[encoded data removed]",
      "text/plain": [
       "<Figure size 640x480 with 1 Axes>"
      ]
     },
     "metadata": {},
     "output_type": "display_data"
    }
   ],
   "source": [
    "plt.imshow(frames[40])"
   ]
  },
  {
   "cell_type": "code",
   "execution_count": 14,
   "id": "d7ec0833-d54b-4073-84cf-92d011c60ec1",
   "metadata": {},
   "outputs": [
    {
     "data": {
      "text/plain": [
       "<tf.Tensor: shape=(21,), dtype=int64, numpy=\n",
       "array([ 2,  9, 14, 39,  2, 12, 21,  5, 39,  1, 20, 39, 12, 39, 19,  9, 24,\n",
       "       39, 14, 15, 23], dtype=int64)>"
      ]
     },
     "execution_count": 14,
     "metadata": {},
     "output_type": "execute_result"
    }
   ],
   "source": [
    "alignments"
   ]
  },
  {
   "cell_type": "code",
   "execution_count": 15,
   "id": "fe1ad370-b287-4b46-85a2-7c45b0bd9b10",
   "metadata": {},
   "outputs": [
    {
     "data": {
      "text/plain": [
       "<tf.Tensor: shape=(), dtype=string, numpy=b'bin blue at l six now'>"
      ]
     },
     "execution_count": 15,
     "metadata": {},
     "output_type": "execute_result"
    }
   ],
   "source": [
    "tf.strings.reduce_join([bytes.decode(x) for x in num_to_char(alignments.numpy()).numpy()])"
   ]
  },
  {
   "cell_type": "code",
   "execution_count": 16,
   "id": "6871031a-b0ba-4c76-a852-f6329b0f2606",
   "metadata": {
    "tags": []
   },
   "outputs": [],
   "source": [
    "def mappable_function(path:str) ->List[str]:\n",
    "    result = tf.py_function(load_data, [path], (tf.float32, tf.int64))\n",
    "    return result"
   ]
  },
  {
   "cell_type": "markdown",
   "id": "c40a7eb4-0c3e-4eab-9291-5611cb68ce08",
   "metadata": {
    "tags": []
   },
   "source": [
    "# 2. Create Data Pipeline"
   ]
  },
  {
   "cell_type": "code",
   "execution_count": 17,
   "id": "f066fea2-91b1-42ed-a67d-00566a1a53ff",
   "metadata": {
    "tags": []
   },
   "outputs": [],
   "source": [
    "data = tf.data.Dataset.list_files('./data/s1/*.mpg')\n",
    "data = data.shuffle(500, reshuffle_each_iteration=False)\n",
    "data = data.map(mappable_function)\n",
    "data = data.padded_batch(2, padded_shapes=([75,None,None,None],[40]))\n",
    "data = data.prefetch(tf.data.AUTOTUNE)\n",
    "# Added for split \n",
    "train = data.take(450)\n",
    "test = data.skip(450)"
   ]
  },
  {
   "cell_type": "code",
   "execution_count": 18,
   "id": "6b1365bd-7742-41d1-95d4-247021751c3a",
   "metadata": {},
   "outputs": [
    {
     "data": {
      "text/plain": [
       "50"
      ]
     },
     "execution_count": 18,
     "metadata": {},
     "output_type": "execute_result"
    }
   ],
   "source": [
    "len(test)"
   ]
  },
  {
   "cell_type": "code",
   "execution_count": 19,
   "id": "5281bde8-fdc8-4da1-bd55-5a7929a9e80c",
   "metadata": {},
   "outputs": [],
   "source": [
    "frames, alignments = data.as_numpy_iterator().next()"
   ]
  },
  {
   "cell_type": "code",
   "execution_count": 20,
   "id": "cbebe683-6afd-47fd-bba4-c83b4b13bb32",
   "metadata": {},
   "outputs": [
    {
     "data": {
      "text/plain": [
       "2"
      ]
     },
     "execution_count": 20,
     "metadata": {},
     "output_type": "execute_result"
    }
   ],
   "source": [
    "len(frames)"
   ]
  },
  {
   "cell_type": "code",
   "execution_count": 21,
   "id": "5cf2d676-93a9-434c-b3c7-bdcc2577b2e7",
   "metadata": {
    "tags": []
   },
   "outputs": [],
   "source": [
    "sample = data.as_numpy_iterator()"
   ]
  },
  {
   "cell_type": "code",
   "execution_count": 22,
   "id": "efa6cd46-7079-46c0-b45b-832f339f6cb0",
   "metadata": {
    "scrolled": true,
    "tags": []
   },
   "outputs": [
    {
     "data": {
      "text/plain": [
       "array([[[[[ 1.4347916 ],\n",
       "          [ 1.4347916 ],\n",
       "          [ 1.4347916 ],\n",
       "          ...,\n",
       "          [10.760937  ],\n",
       "          [10.718738  ],\n",
       "          [10.718738  ]],\n",
       "\n",
       "         [[ 1.4347916 ],\n",
       "          [ 1.4347916 ],\n",
       "          [ 1.4347916 ],\n",
       "          ...,\n",
       "          [10.760937  ],\n",
       "          [10.718738  ],\n",
       "          [10.718738  ]],\n",
       "\n",
       "         [[ 1.3925918 ],\n",
       "          [ 1.3925918 ],\n",
       "          [ 1.3925918 ],\n",
       "          ...,\n",
       "          [ 0.        ],\n",
       "          [ 0.        ],\n",
       "          [ 0.        ]],\n",
       "\n",
       "         ...,\n",
       "\n",
       "         [[ 0.97059435],\n",
       "          [ 0.97059435],\n",
       "          [ 0.97059435],\n",
       "          ...,\n",
       "          [10.465539  ],\n",
       "          [10.465539  ],\n",
       "          [10.465539  ]],\n",
       "\n",
       "         [[ 0.92839456],\n",
       "          [ 0.92839456],\n",
       "          [ 0.92839456],\n",
       "          ...,\n",
       "          [10.465539  ],\n",
       "          [10.465539  ],\n",
       "          [10.465539  ]],\n",
       "\n",
       "         [[ 0.92839456],\n",
       "          [ 0.92839456],\n",
       "          [ 0.92839456],\n",
       "          ...,\n",
       "          [10.465539  ],\n",
       "          [10.465539  ],\n",
       "          [10.423339  ]]],\n",
       "\n",
       "\n",
       "        [[[ 1.4347916 ],\n",
       "          [ 1.4347916 ],\n",
       "          [ 1.3925918 ],\n",
       "          ...,\n",
       "          [10.760937  ],\n",
       "          [10.760937  ],\n",
       "          [10.760937  ]],\n",
       "\n",
       "         [[ 1.4347916 ],\n",
       "          [ 1.4347916 ],\n",
       "          [ 1.3925918 ],\n",
       "          ...,\n",
       "          [10.760937  ],\n",
       "          [10.760937  ],\n",
       "          [10.760937  ]],\n",
       "\n",
       "         [[ 1.3503921 ],\n",
       "          [ 1.3503921 ],\n",
       "          [ 1.3503921 ],\n",
       "          ...,\n",
       "          [ 0.        ],\n",
       "          [10.760937  ],\n",
       "          [10.760937  ]],\n",
       "\n",
       "         ...,\n",
       "\n",
       "         [[ 0.97059435],\n",
       "          [ 0.97059435],\n",
       "          [ 0.97059435],\n",
       "          ...,\n",
       "          [10.507738  ],\n",
       "          [10.465539  ],\n",
       "          [10.465539  ]],\n",
       "\n",
       "         [[ 0.92839456],\n",
       "          [ 0.92839456],\n",
       "          [ 0.92839456],\n",
       "          ...,\n",
       "          [10.465539  ],\n",
       "          [10.465539  ],\n",
       "          [10.465539  ]],\n",
       "\n",
       "         [[ 0.92839456],\n",
       "          [ 0.92839456],\n",
       "          [ 0.92839456],\n",
       "          ...,\n",
       "          [10.465539  ],\n",
       "          [10.465539  ],\n",
       "          [10.423339  ]]],\n",
       "\n",
       "\n",
       "        [[[ 1.4347916 ],\n",
       "          [ 1.4347916 ],\n",
       "          [ 1.3925918 ],\n",
       "          ...,\n",
       "          [10.760937  ],\n",
       "          [10.760937  ],\n",
       "          [10.760937  ]],\n",
       "\n",
       "         [[ 1.4347916 ],\n",
       "          [ 1.4347916 ],\n",
       "          [ 1.3925918 ],\n",
       "          ...,\n",
       "          [10.760937  ],\n",
       "          [10.760937  ],\n",
       "          [10.760937  ]],\n",
       "\n",
       "         [[ 1.3503921 ],\n",
       "          [ 1.3503921 ],\n",
       "          [ 1.3503921 ],\n",
       "          ...,\n",
       "          [ 0.        ],\n",
       "          [10.760937  ],\n",
       "          [10.760937  ]],\n",
       "\n",
       "         ...,\n",
       "\n",
       "         [[ 0.92839456],\n",
       "          [ 0.92839456],\n",
       "          [ 0.92839456],\n",
       "          ...,\n",
       "          [10.465539  ],\n",
       "          [10.465539  ],\n",
       "          [10.465539  ]],\n",
       "\n",
       "         [[ 0.92839456],\n",
       "          [ 0.92839456],\n",
       "          [ 0.92839456],\n",
       "          ...,\n",
       "          [10.465539  ],\n",
       "          [10.465539  ],\n",
       "          [10.465539  ]],\n",
       "\n",
       "         [[ 0.92839456],\n",
       "          [ 0.92839456],\n",
       "          [ 0.92839456],\n",
       "          ...,\n",
       "          [10.465539  ],\n",
       "          [10.465539  ],\n",
       "          [10.423339  ]]],\n",
       "\n",
       "\n",
       "        ...,\n",
       "\n",
       "\n",
       "        [[[ 1.3503921 ],\n",
       "          [ 1.3503921 ],\n",
       "          [ 1.3503921 ],\n",
       "          ...,\n",
       "          [10.6765375 ],\n",
       "          [10.6765375 ],\n",
       "          [10.6765375 ]],\n",
       "\n",
       "         [[ 1.3081924 ],\n",
       "          [ 1.3081924 ],\n",
       "          [ 1.3081924 ],\n",
       "          ...,\n",
       "          [10.6765375 ],\n",
       "          [10.6765375 ],\n",
       "          [10.6765375 ]],\n",
       "\n",
       "         [[ 1.3925918 ],\n",
       "          [ 1.3925918 ],\n",
       "          [ 1.3925918 ],\n",
       "          ...,\n",
       "          [10.718738  ],\n",
       "          [10.718738  ],\n",
       "          [10.718738  ]],\n",
       "\n",
       "         ...,\n",
       "\n",
       "         [[ 0.84399503],\n",
       "          [ 0.84399503],\n",
       "          [ 0.84399503],\n",
       "          ...,\n",
       "          [10.465539  ],\n",
       "          [10.465539  ],\n",
       "          [10.465539  ]],\n",
       "\n",
       "         [[ 0.84399503],\n",
       "          [ 0.84399503],\n",
       "          [ 0.84399503],\n",
       "          ...,\n",
       "          [10.465539  ],\n",
       "          [10.465539  ],\n",
       "          [10.423339  ]],\n",
       "\n",
       "         [[ 0.84399503],\n",
       "          [ 0.84399503],\n",
       "          [ 0.84399503],\n",
       "          ...,\n",
       "          [10.465539  ],\n",
       "          [10.423339  ],\n",
       "          [10.423339  ]]],\n",
       "\n",
       "\n",
       "        [[[ 1.4347916 ],\n",
       "          [ 1.4347916 ],\n",
       "          [ 1.4347916 ],\n",
       "          ...,\n",
       "          [10.760937  ],\n",
       "          [10.760937  ],\n",
       "          [10.718738  ]],\n",
       "\n",
       "         [[ 1.3925918 ],\n",
       "          [ 1.3925918 ],\n",
       "          [ 1.3925918 ],\n",
       "          ...,\n",
       "          [10.760937  ],\n",
       "          [10.760937  ],\n",
       "          [10.718738  ]],\n",
       "\n",
       "         [[ 1.3925918 ],\n",
       "          [ 1.3925918 ],\n",
       "          [ 1.3925918 ],\n",
       "          ...,\n",
       "          [10.6765375 ],\n",
       "          [10.6765375 ],\n",
       "          [10.6765375 ]],\n",
       "\n",
       "         ...,\n",
       "\n",
       "         [[ 0.8861948 ],\n",
       "          [ 0.8861948 ],\n",
       "          [ 0.8861948 ],\n",
       "          ...,\n",
       "          [10.507738  ],\n",
       "          [10.507738  ],\n",
       "          [10.507738  ]],\n",
       "\n",
       "         [[ 0.8861948 ],\n",
       "          [ 0.8861948 ],\n",
       "          [ 0.84399503],\n",
       "          ...,\n",
       "          [10.507738  ],\n",
       "          [10.507738  ],\n",
       "          [10.465539  ]],\n",
       "\n",
       "         [[ 0.84399503],\n",
       "          [ 0.84399503],\n",
       "          [ 0.84399503],\n",
       "          ...,\n",
       "          [10.507738  ],\n",
       "          [10.465539  ],\n",
       "          [10.465539  ]]],\n",
       "\n",
       "\n",
       "        [[[ 1.3925918 ],\n",
       "          [ 1.3925918 ],\n",
       "          [ 1.3925918 ],\n",
       "          ...,\n",
       "          [10.718738  ],\n",
       "          [10.760937  ],\n",
       "          [10.718738  ]],\n",
       "\n",
       "         [[ 1.3503921 ],\n",
       "          [ 1.3503921 ],\n",
       "          [ 1.3503921 ],\n",
       "          ...,\n",
       "          [10.718738  ],\n",
       "          [10.760937  ],\n",
       "          [10.718738  ]],\n",
       "\n",
       "         [[ 1.3503921 ],\n",
       "          [ 1.3503921 ],\n",
       "          [ 1.3503921 ],\n",
       "          ...,\n",
       "          [10.718738  ],\n",
       "          [10.718738  ],\n",
       "          [10.718738  ]],\n",
       "\n",
       "         ...,\n",
       "\n",
       "         [[ 0.8861948 ],\n",
       "          [ 0.8861948 ],\n",
       "          [ 0.8861948 ],\n",
       "          ...,\n",
       "          [10.507738  ],\n",
       "          [10.507738  ],\n",
       "          [10.507738  ]],\n",
       "\n",
       "         [[ 0.8861948 ],\n",
       "          [ 0.8861948 ],\n",
       "          [ 0.84399503],\n",
       "          ...,\n",
       "          [10.507738  ],\n",
       "          [10.507738  ],\n",
       "          [10.465539  ]],\n",
       "\n",
       "         [[ 0.84399503],\n",
       "          [ 0.84399503],\n",
       "          [ 0.84399503],\n",
       "          ...,\n",
       "          [10.507738  ],\n",
       "          [10.465539  ],\n",
       "          [10.465539  ]]]],\n",
       "\n",
       "\n",
       "\n",
       "       [[[[ 1.3175426 ],\n",
       "          [ 1.3175426 ],\n",
       "          [ 1.3175426 ],\n",
       "          ...,\n",
       "          [ 9.039806  ],\n",
       "          [ 9.149601  ],\n",
       "          [ 9.113003  ]],\n",
       "\n",
       "         [[ 1.3175426 ],\n",
       "          [ 1.3175426 ],\n",
       "          [ 1.3175426 ],\n",
       "          ...,\n",
       "          [ 8.3078375 ],\n",
       "          [ 9.149601  ],\n",
       "          [ 9.1862    ]],\n",
       "\n",
       "         [[ 1.3175426 ],\n",
       "          [ 1.3175426 ],\n",
       "          [ 1.2809442 ],\n",
       "          ...,\n",
       "          [ 9.113003  ],\n",
       "          [ 0.03659841],\n",
       "          [ 0.03659841]],\n",
       "\n",
       "         ...,\n",
       "\n",
       "         [[ 0.8783617 ],\n",
       "          [ 0.8783617 ],\n",
       "          [ 0.8783617 ],\n",
       "          ...,\n",
       "          [ 9.295995  ],\n",
       "          [ 9.332593  ],\n",
       "          [ 9.332593  ]],\n",
       "\n",
       "         [[ 0.8783617 ],\n",
       "          [ 0.8783617 ],\n",
       "          [ 0.8783617 ],\n",
       "          ...,\n",
       "          [ 9.1862    ],\n",
       "          [ 9.259397  ],\n",
       "          [ 9.259397  ]],\n",
       "\n",
       "         [[ 0.8783617 ],\n",
       "          [ 0.8783617 ],\n",
       "          [ 0.8783617 ],\n",
       "          ...,\n",
       "          [ 9.222798  ],\n",
       "          [ 9.259397  ],\n",
       "          [ 9.222798  ]]],\n",
       "\n",
       "\n",
       "        [[[ 1.3175426 ],\n",
       "          [ 1.3175426 ],\n",
       "          [ 1.3175426 ],\n",
       "          ...,\n",
       "          [ 8.966609  ],\n",
       "          [ 9.003207  ],\n",
       "          [ 9.076405  ]],\n",
       "\n",
       "         [[ 1.3175426 ],\n",
       "          [ 1.3175426 ],\n",
       "          [ 1.2809442 ],\n",
       "          ...,\n",
       "          [ 8.234641  ],\n",
       "          [ 9.003207  ],\n",
       "          [ 9.076405  ]],\n",
       "\n",
       "         [[ 1.2443458 ],\n",
       "          [ 1.2443458 ],\n",
       "          [ 1.2077473 ],\n",
       "          ...,\n",
       "          [ 9.003207  ],\n",
       "          [ 9.332593  ],\n",
       "          [ 9.332593  ]],\n",
       "\n",
       "         ...,\n",
       "\n",
       "         [[ 0.91496015],\n",
       "          [ 0.8783617 ],\n",
       "          [ 0.8783617 ],\n",
       "          ...,\n",
       "          [ 9.332593  ],\n",
       "          [ 9.295995  ],\n",
       "          [ 9.295995  ]],\n",
       "\n",
       "         [[ 0.91496015],\n",
       "          [ 0.8783617 ],\n",
       "          [ 0.8783617 ],\n",
       "          ...,\n",
       "          [ 9.1862    ],\n",
       "          [ 9.259397  ],\n",
       "          [ 9.1862    ]],\n",
       "\n",
       "         [[ 0.91496015],\n",
       "          [ 0.8783617 ],\n",
       "          [ 0.8783617 ],\n",
       "          ...,\n",
       "          [ 9.1862    ],\n",
       "          [ 9.1862    ],\n",
       "          [ 9.149601  ]]],\n",
       "\n",
       "\n",
       "        [[[ 1.354141  ],\n",
       "          [ 1.354141  ],\n",
       "          [ 1.3175426 ],\n",
       "          ...,\n",
       "          [ 9.113003  ],\n",
       "          [ 8.966609  ],\n",
       "          [ 9.003207  ]],\n",
       "\n",
       "         [[ 1.354141  ],\n",
       "          [ 1.354141  ],\n",
       "          [ 1.2809442 ],\n",
       "          ...,\n",
       "          [ 8.381035  ],\n",
       "          [ 9.003207  ],\n",
       "          [ 9.076405  ]],\n",
       "\n",
       "         [[ 1.3175426 ],\n",
       "          [ 1.3175426 ],\n",
       "          [ 1.2443458 ],\n",
       "          ...,\n",
       "          [ 8.966609  ],\n",
       "          [ 9.332593  ],\n",
       "          [ 9.332593  ]],\n",
       "\n",
       "         ...,\n",
       "\n",
       "         [[ 0.95155853],\n",
       "          [ 0.91496015],\n",
       "          [ 0.91496015],\n",
       "          ...,\n",
       "          [ 9.332593  ],\n",
       "          [ 9.259397  ],\n",
       "          [ 9.259397  ]],\n",
       "\n",
       "         [[ 0.95155853],\n",
       "          [ 0.91496015],\n",
       "          [ 0.91496015],\n",
       "          ...,\n",
       "          [ 9.222798  ],\n",
       "          [ 9.259397  ],\n",
       "          [ 9.149601  ]],\n",
       "\n",
       "         [[ 0.95155853],\n",
       "          [ 0.91496015],\n",
       "          [ 0.91496015],\n",
       "          ...,\n",
       "          [ 9.1862    ],\n",
       "          [ 9.259397  ],\n",
       "          [ 9.113003  ]]],\n",
       "\n",
       "\n",
       "        ...,\n",
       "\n",
       "\n",
       "        [[[ 1.354141  ],\n",
       "          [ 1.354141  ],\n",
       "          [ 1.3907394 ],\n",
       "          ...,\n",
       "          [ 8.783617  ],\n",
       "          [ 9.076405  ],\n",
       "          [ 9.076405  ]],\n",
       "\n",
       "         [[ 1.2809442 ],\n",
       "          [ 1.2809442 ],\n",
       "          [ 1.3175426 ],\n",
       "          ...,\n",
       "          [ 8.271239  ],\n",
       "          [ 9.076405  ],\n",
       "          [ 9.149601  ]],\n",
       "\n",
       "         [[ 1.3175426 ],\n",
       "          [ 1.3175426 ],\n",
       "          [ 1.3175426 ],\n",
       "          ...,\n",
       "          [ 9.149601  ],\n",
       "          [ 0.        ],\n",
       "          [ 0.        ]],\n",
       "\n",
       "         ...,\n",
       "\n",
       "         [[ 0.91496015],\n",
       "          [ 0.91496015],\n",
       "          [ 0.91496015],\n",
       "          ...,\n",
       "          [ 9.295995  ],\n",
       "          [ 9.259397  ],\n",
       "          [ 9.1862    ]],\n",
       "\n",
       "         [[ 0.91496015],\n",
       "          [ 0.91496015],\n",
       "          [ 0.91496015],\n",
       "          ...,\n",
       "          [ 9.1862    ],\n",
       "          [ 9.259397  ],\n",
       "          [ 9.1862    ]],\n",
       "\n",
       "         [[ 0.91496015],\n",
       "          [ 0.91496015],\n",
       "          [ 0.91496015],\n",
       "          ...,\n",
       "          [ 9.1862    ],\n",
       "          [ 9.1862    ],\n",
       "          [ 9.1862    ]]],\n",
       "\n",
       "\n",
       "        [[[ 1.3175426 ],\n",
       "          [ 1.3175426 ],\n",
       "          [ 1.2809442 ],\n",
       "          ...,\n",
       "          [ 8.747019  ],\n",
       "          [ 9.039806  ],\n",
       "          [ 9.149601  ]],\n",
       "\n",
       "         [[ 1.3175426 ],\n",
       "          [ 1.3175426 ],\n",
       "          [ 1.2809442 ],\n",
       "          ...,\n",
       "          [ 8.271239  ],\n",
       "          [ 9.039806  ],\n",
       "          [ 9.149601  ]],\n",
       "\n",
       "         [[ 1.3175426 ],\n",
       "          [ 1.3175426 ],\n",
       "          [ 1.3175426 ],\n",
       "          ...,\n",
       "          [ 9.222798  ],\n",
       "          [ 0.03659841],\n",
       "          [ 0.03659841]],\n",
       "\n",
       "         ...,\n",
       "\n",
       "         [[ 0.95155853],\n",
       "          [ 0.95155853],\n",
       "          [ 0.91496015],\n",
       "          ...,\n",
       "          [ 9.295995  ],\n",
       "          [ 9.295995  ],\n",
       "          [ 9.259397  ]],\n",
       "\n",
       "         [[ 0.95155853],\n",
       "          [ 0.95155853],\n",
       "          [ 0.91496015],\n",
       "          ...,\n",
       "          [ 9.222798  ],\n",
       "          [ 9.295995  ],\n",
       "          [ 9.259397  ]],\n",
       "\n",
       "         [[ 0.95155853],\n",
       "          [ 0.95155853],\n",
       "          [ 0.91496015],\n",
       "          ...,\n",
       "          [ 9.259397  ],\n",
       "          [ 9.259397  ],\n",
       "          [ 9.1862    ]]],\n",
       "\n",
       "\n",
       "        [[[ 1.3175426 ],\n",
       "          [ 1.3175426 ],\n",
       "          [ 1.2809442 ],\n",
       "          ...,\n",
       "          [ 8.783617  ],\n",
       "          [ 9.076405  ],\n",
       "          [ 9.076405  ]],\n",
       "\n",
       "         [[ 1.3175426 ],\n",
       "          [ 1.3175426 ],\n",
       "          [ 1.2809442 ],\n",
       "          ...,\n",
       "          [ 8.3078375 ],\n",
       "          [ 9.076405  ],\n",
       "          [ 9.222798  ]],\n",
       "\n",
       "         [[ 1.2809442 ],\n",
       "          [ 1.3175426 ],\n",
       "          [ 1.3175426 ],\n",
       "          ...,\n",
       "          [ 9.259397  ],\n",
       "          [ 0.10979521],\n",
       "          [ 0.03659841]],\n",
       "\n",
       "         ...,\n",
       "\n",
       "         [[ 0.91496015],\n",
       "          [ 0.91496015],\n",
       "          [ 0.8783617 ],\n",
       "          ...,\n",
       "          [ 9.295995  ],\n",
       "          [ 9.295995  ],\n",
       "          [ 9.259397  ]],\n",
       "\n",
       "         [[ 0.91496015],\n",
       "          [ 0.91496015],\n",
       "          [ 0.8783617 ],\n",
       "          ...,\n",
       "          [ 9.222798  ],\n",
       "          [ 9.295995  ],\n",
       "          [ 9.259397  ]],\n",
       "\n",
       "         [[ 0.91496015],\n",
       "          [ 0.91496015],\n",
       "          [ 0.8783617 ],\n",
       "          ...,\n",
       "          [ 9.259397  ],\n",
       "          [ 9.259397  ],\n",
       "          [ 9.1862    ]]]]], dtype=float32)"
      ]
     },
     "execution_count": 22,
     "metadata": {},
     "output_type": "execute_result"
    }
   ],
   "source": [
    "val = sample.next(); val[0]"
   ]
  },
  {
   "cell_type": "code",
   "execution_count": 23,
   "id": "acf5eb4f-a0da-4a9a-bf24-af13e9cc2fbe",
   "metadata": {
    "tags": []
   },
   "outputs": [
    {
     "name": "stderr",
     "output_type": "stream",
     "text": [
      "Lossy conversion from float32 to uint8. Range [0.0, 10.760936737060547]. Convert image to uint8 prior to saving to suppress this warning.\n",
      "Lossy conversion from float32 to uint8. Range [0.0, 10.760936737060547]. Convert image to uint8 prior to saving to suppress this warning.\n",
      "Lossy conversion from float32 to uint8. Range [0.0, 10.760936737060547]. Convert image to uint8 prior to saving to suppress this warning.\n",
      "Lossy conversion from float32 to uint8. Range [0.0, 10.760936737060547]. Convert image to uint8 prior to saving to suppress this warning.\n",
      "Lossy conversion from float32 to uint8. Range [0.0, 10.760936737060547]. Convert image to uint8 prior to saving to suppress this warning.\n",
      "Lossy conversion from float32 to uint8. Range [0.0, 10.760936737060547]. Convert image to uint8 prior to saving to suppress this warning.\n",
      "Lossy conversion from float32 to uint8. Range [0.0, 10.760936737060547]. Convert image to uint8 prior to saving to suppress this warning.\n",
      "Lossy conversion from float32 to uint8. Range [0.0, 10.760936737060547]. Convert image to uint8 prior to saving to suppress this warning.\n",
      "Lossy conversion from float32 to uint8. Range [0.0, 10.760936737060547]. Convert image to uint8 prior to saving to suppress this warning.\n"
     ]
    },
    {
     "name": "stderr",
     "output_type": "stream",
     "text": [
      "Lossy conversion from float32 to uint8. Range [0.0, 10.760936737060547]. Convert image to uint8 prior to saving to suppress this warning.\n",
      "Lossy conversion from float32 to uint8. Range [0.0, 10.760936737060547]. Convert image to uint8 prior to saving to suppress this warning.\n",
      "Lossy conversion from float32 to uint8. Range [0.0, 10.760936737060547]. Convert image to uint8 prior to saving to suppress this warning.\n",
      "Lossy conversion from float32 to uint8. Range [0.0, 10.760936737060547]. Convert image to uint8 prior to saving to suppress this warning.\n",
      "Lossy conversion from float32 to uint8. Range [0.0, 10.760936737060547]. Convert image to uint8 prior to saving to suppress this warning.\n",
      "Lossy conversion from float32 to uint8. Range [0.0, 10.760936737060547]. Convert image to uint8 prior to saving to suppress this warning.\n",
      "Lossy conversion from float32 to uint8. Range [0.0, 10.760936737060547]. Convert image to uint8 prior to saving to suppress this warning.\n",
      "Lossy conversion from float32 to uint8. Range [0.0, 10.760936737060547]. Convert image to uint8 prior to saving to suppress this warning.\n",
      "Lossy conversion from float32 to uint8. Range [0.0, 10.760936737060547]. Convert image to uint8 prior to saving to suppress this warning.\n",
      "Lossy conversion from float32 to uint8. Range [0.0, 10.760936737060547]. Convert image to uint8 prior to saving to suppress this warning.\n",
      "Lossy conversion from float32 to uint8. Range [0.0, 10.760936737060547]. Convert image to uint8 prior to saving to suppress this warning.\n",
      "Lossy conversion from float32 to uint8. Range [0.0, 10.760936737060547]. Convert image to uint8 prior to saving to suppress this warning.\n",
      "Lossy conversion from float32 to uint8. Range [0.0, 10.760936737060547]. Convert image to uint8 prior to saving to suppress this warning.\n",
      "Lossy conversion from float32 to uint8. Range [0.0, 10.760936737060547]. Convert image to uint8 prior to saving to suppress this warning.\n",
      "Lossy conversion from float32 to uint8. Range [0.0, 10.760936737060547]. Convert image to uint8 prior to saving to suppress this warning.\n",
      "Lossy conversion from float32 to uint8. Range [0.0, 10.760936737060547]. Convert image to uint8 prior to saving to suppress this warning.\n",
      "Lossy conversion from float32 to uint8. Range [0.0, 10.760936737060547]. Convert image to uint8 prior to saving to suppress this warning.\n",
      "Lossy conversion from float32 to uint8. Range [0.0, 10.760936737060547]. Convert image to uint8 prior to saving to suppress this warning.\n",
      "Lossy conversion from float32 to uint8. Range [0.0, 10.760936737060547]. Convert image to uint8 prior to saving to suppress this warning.\n",
      "Lossy conversion from float32 to uint8. Range [0.0, 10.760936737060547]. Convert image to uint8 prior to saving to suppress this warning.\n",
      "Lossy conversion from float32 to uint8. Range [0.0, 10.760936737060547]. Convert image to uint8 prior to saving to suppress this warning.\n",
      "Lossy conversion from float32 to uint8. Range [0.0, 10.760936737060547]. Convert image to uint8 prior to saving to suppress this warning.\n",
      "Lossy conversion from float32 to uint8. Range [0.0, 10.760936737060547]. Convert image to uint8 prior to saving to suppress this warning.\n",
      "Lossy conversion from float32 to uint8. Range [0.0, 10.760936737060547]. Convert image to uint8 prior to saving to suppress this warning.\n",
      "Lossy conversion from float32 to uint8. Range [0.0, 10.760936737060547]. Convert image to uint8 prior to saving to suppress this warning.\n",
      "Lossy conversion from float32 to uint8. Range [0.0, 10.760936737060547]. Convert image to uint8 prior to saving to suppress this warning.\n",
      "Lossy conversion from float32 to uint8. Range [0.0, 10.760936737060547]. Convert image to uint8 prior to saving to suppress this warning.\n",
      "Lossy conversion from float32 to uint8. Range [0.0, 10.760936737060547]. Convert image to uint8 prior to saving to suppress this warning.\n",
      "Lossy conversion from float32 to uint8. Range [0.0, 10.760936737060547]. Convert image to uint8 prior to saving to suppress this warning.\n",
      "Lossy conversion from float32 to uint8. Range [0.0, 10.760936737060547]. Convert image to uint8 prior to saving to suppress this warning.\n",
      "Lossy conversion from float32 to uint8. Range [0.0, 10.760936737060547]. Convert image to uint8 prior to saving to suppress this warning.\n",
      "Lossy conversion from float32 to uint8. Range [0.0, 10.760936737060547]. Convert image to uint8 prior to saving to suppress this warning.\n",
      "Lossy conversion from float32 to uint8. Range [0.0, 10.760936737060547]. Convert image to uint8 prior to saving to suppress this warning.\n",
      "Lossy conversion from float32 to uint8. Range [0.0, 10.760936737060547]. Convert image to uint8 prior to saving to suppress this warning.\n",
      "Lossy conversion from float32 to uint8. Range [0.0, 10.760936737060547]. Convert image to uint8 prior to saving to suppress this warning.\n",
      "Lossy conversion from float32 to uint8. Range [0.0, 10.760936737060547]. Convert image to uint8 prior to saving to suppress this warning.\n",
      "Lossy conversion from float32 to uint8. Range [0.0, 10.760936737060547]. Convert image to uint8 prior to saving to suppress this warning.\n",
      "Lossy conversion from float32 to uint8. Range [0.0, 10.760936737060547]. Convert image to uint8 prior to saving to suppress this warning.\n",
      "Lossy conversion from float32 to uint8. Range [0.0, 10.760936737060547]. Convert image to uint8 prior to saving to suppress this warning.\n",
      "Lossy conversion from float32 to uint8. Range [0.0, 10.760936737060547]. Convert image to uint8 prior to saving to suppress this warning.\n",
      "Lossy conversion from float32 to uint8. Range [0.0, 10.760936737060547]. Convert image to uint8 prior to saving to suppress this warning.\n",
      "Lossy conversion from float32 to uint8. Range [0.0, 10.760936737060547]. Convert image to uint8 prior to saving to suppress this warning.\n",
      "Lossy conversion from float32 to uint8. Range [0.0, 10.760936737060547]. Convert image to uint8 prior to saving to suppress this warning.\n",
      "Lossy conversion from float32 to uint8. Range [0.0, 10.760936737060547]. Convert image to uint8 prior to saving to suppress this warning.\n",
      "Lossy conversion from float32 to uint8. Range [0.0, 10.760936737060547]. Convert image to uint8 prior to saving to suppress this warning.\n",
      "Lossy conversion from float32 to uint8. Range [0.0, 10.760936737060547]. Convert image to uint8 prior to saving to suppress this warning.\n",
      "Lossy conversion from float32 to uint8. Range [0.0, 10.760936737060547]. Convert image to uint8 prior to saving to suppress this warning.\n",
      "Lossy conversion from float32 to uint8. Range [0.0, 10.760936737060547]. Convert image to uint8 prior to saving to suppress this warning.\n",
      "Lossy conversion from float32 to uint8. Range [0.0, 10.760936737060547]. Convert image to uint8 prior to saving to suppress this warning.\n",
      "Lossy conversion from float32 to uint8. Range [0.0, 10.760936737060547]. Convert image to uint8 prior to saving to suppress this warning.\n",
      "Lossy conversion from float32 to uint8. Range [0.0, 10.760936737060547]. Convert image to uint8 prior to saving to suppress this warning.\n",
      "Lossy conversion from float32 to uint8. Range [0.0, 10.760936737060547]. Convert image to uint8 prior to saving to suppress this warning.\n",
      "Lossy conversion from float32 to uint8. Range [0.0, 10.760936737060547]. Convert image to uint8 prior to saving to suppress this warning.\n",
      "Lossy conversion from float32 to uint8. Range [0.0, 10.760936737060547]. Convert image to uint8 prior to saving to suppress this warning.\n",
      "Lossy conversion from float32 to uint8. Range [0.0, 10.760936737060547]. Convert image to uint8 prior to saving to suppress this warning.\n",
      "Lossy conversion from float32 to uint8. Range [0.0, 10.760936737060547]. Convert image to uint8 prior to saving to suppress this warning.\n",
      "Lossy conversion from float32 to uint8. Range [0.0, 10.760936737060547]. Convert image to uint8 prior to saving to suppress this warning.\n",
      "Lossy conversion from float32 to uint8. Range [0.0, 10.760936737060547]. Convert image to uint8 prior to saving to suppress this warning.\n",
      "Lossy conversion from float32 to uint8. Range [0.0, 10.760936737060547]. Convert image to uint8 prior to saving to suppress this warning.\n",
      "Lossy conversion from float32 to uint8. Range [0.0, 10.760936737060547]. Convert image to uint8 prior to saving to suppress this warning.\n",
      "Lossy conversion from float32 to uint8. Range [0.0, 10.760936737060547]. Convert image to uint8 prior to saving to suppress this warning.\n",
      "Lossy conversion from float32 to uint8. Range [0.0, 10.760936737060547]. Convert image to uint8 prior to saving to suppress this warning.\n",
      "Lossy conversion from float32 to uint8. Range [0.0, 10.760936737060547]. Convert image to uint8 prior to saving to suppress this warning.\n",
      "Lossy conversion from float32 to uint8. Range [0.0, 10.760936737060547]. Convert image to uint8 prior to saving to suppress this warning.\n",
      "Lossy conversion from float32 to uint8. Range [0.0, 10.760936737060547]. Convert image to uint8 prior to saving to suppress this warning.\n",
      "Lossy conversion from float32 to uint8. Range [0.0, 10.760936737060547]. Convert image to uint8 prior to saving to suppress this warning.\n"
     ]
    }
   ],
   "source": [
    "imageio.mimsave('./animation.gif', val[0][0], fps=10)"
   ]
  },
  {
   "cell_type": "code",
   "execution_count": 24,
   "id": "c33a87a2-d5e0-4ec9-b174-73ebf41bf03a",
   "metadata": {
    "tags": []
   },
   "outputs": [
    {
     "data": {
      "text/plain": [
       "<matplotlib.image.AxesImage at 0x1d644de7050>"
      ]
     },
     "execution_count": 24,
     "metadata": {},
     "output_type": "execute_result"
    },
    {
     "data": {
      "image/png": "[encoded data removed]",
      "text/plain": [
       "<Figure size 640x480 with 1 Axes>"
      ]
     },
     "metadata": {},
     "output_type": "display_data"
    }
   ],
   "source": [
    "# 0:videos, 0: 1st video out of the batch,  0: return the first frame in the video \n",
    "plt.imshow(val[0][0][10])"
   ]
  },
  {
   "cell_type": "code",
   "execution_count": 25,
   "id": "84593332-133c-4205-b7a6-8e235d5e2b3b",
   "metadata": {
    "tags": []
   },
   "outputs": [
    {
     "data": {
      "text/plain": [
       "<tf.Tensor: shape=(), dtype=string, numpy=b'place green by r one soon'>"
      ]
     },
     "execution_count": 25,
     "metadata": {},
     "output_type": "execute_result"
    }
   ],
   "source": [
    "tf.strings.reduce_join([num_to_char(word) for word in val[1][0]])"
   ]
  },
  {
   "cell_type": "markdown",
   "id": "0f47733c-83bc-465c-b118-b198b492ad37",
   "metadata": {
    "tags": []
   },
   "source": [
    "# 3. Design the Deep Neural Network"
   ]
  },
  {
   "cell_type": "code",
   "execution_count": 26,
   "id": "d8e9a497-191b-4842-afbd-26f5e13c43ba",
   "metadata": {
    "tags": []
   },
   "outputs": [],
   "source": [
    "from tensorflow.keras.models import Sequential \n",
    "from tensorflow.keras.layers import Conv3D, LSTM, Dense, Dropout, Bidirectional, MaxPool3D, Activation, Reshape, SpatialDropout3D, BatchNormalization, TimeDistributed, Flatten\n",
    "from tensorflow.keras.optimizers.legacy import Adam\n",
    "\n",
    "from tensorflow.keras.callbacks import ModelCheckpoint, LearningRateScheduler"
   ]
  },
  {
   "cell_type": "code",
   "execution_count": 27,
   "id": "3f753ed2-70b9-4236-8c1c-08ca065dc8bf",
   "metadata": {},
   "outputs": [
    {
     "data": {
      "text/plain": [
       "(75, 46, 140, 1)"
      ]
     },
     "execution_count": 27,
     "metadata": {},
     "output_type": "execute_result"
    }
   ],
   "source": [
    "data.as_numpy_iterator().next()[0][0].shape"
   ]
  },
  {
   "cell_type": "code",
   "execution_count": 28,
   "id": "f9171056-a352-491a-9ed9-92b28ced268e",
   "metadata": {
    "tags": []
   },
   "outputs": [],
   "source": [
    "model = Sequential()\n",
    "model.add(Conv3D(128, 3, input_shape=(75,46,140,1), padding='same'))\n",
    "model.add(Activation('relu'))\n",
    "model.add(MaxPool3D((1,2,2)))\n",
    "\n",
    "model.add(Conv3D(256, 3, padding='same'))\n",
    "model.add(Activation('relu'))\n",
    "model.add(MaxPool3D((1,2,2)))\n",
    "\n",
    "model.add(Conv3D(75, 3, padding='same'))\n",
    "model.add(Activation('relu'))\n",
    "model.add(MaxPool3D((1,2,2)))\n",
    "\n",
    "model.add(TimeDistributed(Flatten()))\n",
    "\n",
    "model.add(Bidirectional(LSTM(128, kernel_initializer='Orthogonal', return_sequences=True)))\n",
    "model.add(Dropout(.5))\n",
    "\n",
    "model.add(Bidirectional(LSTM(128, kernel_initializer='Orthogonal', return_sequences=True)))\n",
    "model.add(Dropout(.5))\n",
    "\n",
    "model.add(Dense(char_to_num.vocabulary_size()+1, kernel_initializer='he_normal', activation='softmax'))"
   ]
  },
  {
   "cell_type": "code",
   "execution_count": 29,
   "id": "78851825-2bcd-42a9-b7f2-28bb5a6bf43a",
   "metadata": {
    "collapsed": true,
    "jupyter": {
     "outputs_hidden": true
    },
    "tags": []
   },
   "outputs": [
    {
     "name": "stdout",
     "output_type": "stream",
     "text": [
      "Model: \"sequential\"\n",
      "_________________________________________________________________\n",
      " Layer (type)                Output Shape              Param #   \n",
      "=================================================================\n",
      " conv3d (Conv3D)             (None, 75, 46, 140, 128   3584      \n",
      "                             )                                   \n",
      "                                                                 \n",
      " activation (Activation)     (None, 75, 46, 140, 128   0         \n",
      "                             )                                   \n",
      "                                                                 \n",
      " max_pooling3d (MaxPooling3  (None, 75, 23, 70, 128)   0         \n",
      " D)                                                              \n",
      "                                                                 \n",
      " conv3d_1 (Conv3D)           (None, 75, 23, 70, 256)   884992    \n",
      "                                                                 \n",
      " activation_1 (Activation)   (None, 75, 23, 70, 256)   0         \n",
      "                                                                 \n",
      " max_pooling3d_1 (MaxPoolin  (None, 75, 11, 35, 256)   0         \n",
      " g3D)                                                            \n",
      "                                                                 \n",
      " conv3d_2 (Conv3D)           (None, 75, 11, 35, 75)    518475    \n",
      "                                                                 \n",
      " activation_2 (Activation)   (None, 75, 11, 35, 75)    0         \n",
      "                                                                 \n",
      " max_pooling3d_2 (MaxPoolin  (None, 75, 5, 17, 75)     0         \n",
      " g3D)                                                            \n",
      "                                                                 \n",
      " time_distributed (TimeDist  (None, 75, 6375)          0         \n",
      " ributed)                                                        \n",
      "                                                                 \n",
      " bidirectional (Bidirection  (None, 75, 256)           6660096   \n",
      " al)                                                             \n",
      "                                                                 \n",
      " dropout (Dropout)           (None, 75, 256)           0         \n",
      "                                                                 \n",
      " bidirectional_1 (Bidirecti  (None, 75, 256)           394240    \n",
      " onal)                                                           \n",
      "                                                                 \n",
      " dropout_1 (Dropout)         (None, 75, 256)           0         \n",
      "                                                                 \n",
      " dense (Dense)               (None, 75, 41)            10537     \n",
      "                                                                 \n",
      "=================================================================\n",
      "Total params: 8471924 (32.32 MB)\n",
      "Trainable params: 8471924 (32.32 MB)\n",
      "Non-trainable params: 0 (0.00 Byte)\n",
      "_________________________________________________________________\n"
     ]
    }
   ],
   "source": [
    "model.summary()"
   ]
  },
  {
   "cell_type": "code",
   "execution_count": 30,
   "id": "f4b4798c-a65a-4c47-9e2a-3b09dc98d320",
   "metadata": {},
   "outputs": [
    {
     "data": {
      "text/plain": [
       "6375"
      ]
     },
     "execution_count": 30,
     "metadata": {},
     "output_type": "execute_result"
    }
   ],
   "source": [
    "5*17*75"
   ]
  },
  {
   "cell_type": "code",
   "execution_count": 31,
   "id": "e5c2eae0-c359-41a4-97a0-75c44dccb7d1",
   "metadata": {
    "tags": []
   },
   "outputs": [
    {
     "name": "stdout",
     "output_type": "stream",
     "text": [
      "1/1 [==============================] - 9s 9s/step\n"
     ]
    }
   ],
   "source": [
    "yhat = model.predict(val[0])"
   ]
  },
  {
   "cell_type": "code",
   "execution_count": 32,
   "id": "ffdc7319-0d69-4f7e-a6d4-ce72deb81c0b",
   "metadata": {},
   "outputs": [
    {
     "data": {
      "text/plain": [
       "<tf.Tensor: shape=(), dtype=string, numpy=b'bbbbbbbbbbbbbbbbbbbbbbbbbbbbbbbbbbbbbbbbbbbbbbbuuuuuuuuuuuuuuuuuuuuuuuuuuuu'>"
      ]
     },
     "execution_count": 32,
     "metadata": {},
     "output_type": "execute_result"
    }
   ],
   "source": [
    "tf.strings.reduce_join([num_to_char(x) for x in tf.argmax(yhat[0],axis=1)])"
   ]
  },
  {
   "cell_type": "code",
   "execution_count": 33,
   "id": "6ed47531-8317-4255-9a12-b757642258e6",
   "metadata": {
    "tags": []
   },
   "outputs": [
    {
     "data": {
      "text/plain": [
       "<tf.Tensor: shape=(), dtype=string, numpy=b'bbbbbbbbbbbbbbbbbbbbbbbbbbbbbbbbbbbbbbbbbbbbbbbuuuuuuuuuuuuuuuuuuuuuuuuuuuu'>"
      ]
     },
     "execution_count": 33,
     "metadata": {},
     "output_type": "execute_result"
    }
   ],
   "source": [
    "tf.strings.reduce_join([num_to_char(tf.argmax(x)) for x in yhat[0]])"
   ]
  },
  {
   "cell_type": "code",
   "execution_count": 34,
   "id": "7c37b9b9-5298-4038-9c33-5031d1b457f0",
   "metadata": {
    "tags": []
   },
   "outputs": [
    {
     "data": {
      "text/plain": [
       "(None, 75, 46, 140, 1)"
      ]
     },
     "execution_count": 34,
     "metadata": {},
     "output_type": "execute_result"
    }
   ],
   "source": [
    "model.input_shape"
   ]
  },
  {
   "cell_type": "code",
   "execution_count": 35,
   "id": "98b316a4-5322-4782-8e36-4b3c1a696d85",
   "metadata": {
    "tags": []
   },
   "outputs": [
    {
     "data": {
      "text/plain": [
       "(None, 75, 41)"
      ]
     },
     "execution_count": 35,
     "metadata": {},
     "output_type": "execute_result"
    }
   ],
   "source": [
    "model.output_shape"
   ]
  },
  {
   "cell_type": "markdown",
   "id": "2ec02176-5c26-46c3-aff7-8352e6563c7d",
   "metadata": {
    "tags": []
   },
   "source": [
    "# 4. Setup Training Options and Train"
   ]
  },
  {
   "cell_type": "code",
   "execution_count": 36,
   "id": "ab015fd0-7fb4-4d5d-9fa2-30a05dbd515a",
   "metadata": {
    "tags": []
   },
   "outputs": [],
   "source": [
    "def scheduler(epoch, lr):\n",
    "    if epoch < 30:\n",
    "        return lr\n",
    "    else:\n",
    "        return lr * tf.math.exp(-0.1)"
   ]
  },
  {
   "cell_type": "code",
   "execution_count": 37,
   "id": "c1f049d5",
   "metadata": {},
   "outputs": [],
   "source": [
    "def CTCLoss(y_true, y_pred):\n",
    "    batch_len = tf.cast(tf.shape(y_true)[0], dtype=\"int64\")\n",
    "    input_length = tf.cast(tf.shape(y_pred)[1], dtype=\"int64\")\n",
    "    label_length = tf.cast(tf.shape(y_true)[1], dtype=\"int64\")\n",
    "\n",
    "    input_length = input_length * tf.ones(shape=(batch_len, 1), dtype=\"int64\")\n",
    "    label_length = label_length * tf.ones(shape=(batch_len, 1), dtype=\"int64\")\n",
    "\n",
    "    loss = tf.keras.backend.ctc_batch_cost(y_true, y_pred, input_length, label_length)\n",
    "    return loss"
   ]
  },
  {
   "cell_type": "code",
   "execution_count": 38,
   "id": "a26dc3fc-a19c-4378-bd8c-e2b597a1d15c",
   "metadata": {
    "tags": []
   },
   "outputs": [],
   "source": [
    "class ProduceExample(tf.keras.callbacks.Callback): \n",
    "    def __init__(self, dataset) -> None: \n",
    "        self.dataset = dataset.as_numpy_iterator()\n",
    "    \n",
    "    def on_epoch_end(self, epoch, logs=None) -> None:\n",
    "        data = self.dataset.next()\n",
    "        yhat = self.model.predict(data[0])\n",
    "        decoded = tf.keras.backend.ctc_decode(yhat, [75,75], greedy=False)[0][0].numpy()\n",
    "        for x in range(len(yhat)):           \n",
    "            print('Original:', tf.strings.reduce_join(num_to_char(data[1][x])).numpy().decode('utf-8'))\n",
    "            print('Prediction:', tf.strings.reduce_join(num_to_char(decoded[x])).numpy().decode('utf-8'))\n",
    "            print('~'*100)"
   ]
  },
  {
   "cell_type": "code",
   "execution_count": 39,
   "id": "74069f91",
   "metadata": {},
   "outputs": [],
   "source": [
    "model.compile(optimizer=Adam(learning_rate=0.0001), loss=CTCLoss)"
   ]
  },
  {
   "cell_type": "code",
   "execution_count": 40,
   "id": "eab49367-3f1e-4464-ae76-dbd07549d97e",
   "metadata": {
    "tags": []
   },
   "outputs": [],
   "source": [
    "checkpoint_callback = ModelCheckpoint(os.path.join('models','checkpoint'), monitor='loss', save_weights_only=True) "
   ]
  },
  {
   "cell_type": "code",
   "execution_count": 41,
   "id": "e085a632-d464-46ef-8777-959cad4adb2c",
   "metadata": {
    "tags": []
   },
   "outputs": [],
   "source": [
    "schedule_callback = LearningRateScheduler(scheduler)"
   ]
  },
  {
   "cell_type": "code",
   "execution_count": 42,
   "id": "48eca991-90ab-4592-8a79-b50e9ca015b6",
   "metadata": {
    "tags": []
   },
   "outputs": [],
   "source": [
    "example_callback = ProduceExample(test)"
   ]
  },
  {
   "cell_type": "code",
   "execution_count": 43,
   "id": "8ffba483-aa61-4bbe-a15f-a73e1ddf097c",
   "metadata": {
    "tags": []
   },
   "outputs": [],
   "source": [
    "#model.fit(train, validation_data=test, epochs=1, callbacks=[checkpoint_callback, schedule_callback, example_callback])"
   ]
  },
  {
   "cell_type": "markdown",
   "id": "fa8ee94b-89f7-4733-8a0c-a86f86ff590a",
   "metadata": {
    "tags": []
   },
   "source": [
    "# 5. Make a Prediction "
   ]
  },
  {
   "cell_type": "code",
   "execution_count": 44,
   "id": "247f664d-3c87-4e96-946e-930dad0e1c2c",
   "metadata": {
    "tags": []
   },
   "outputs": [
    {
     "data": {
      "text/plain": [
       "<tensorflow.python.checkpoint.checkpoint.CheckpointLoadStatus at 0x1d644f39ed0>"
      ]
     },
     "execution_count": 44,
     "metadata": {},
     "output_type": "execute_result"
    }
   ],
   "source": [
    "model.load_weights('.\\\\models\\\\checkpoint')"
   ]
  },
  {
   "cell_type": "code",
   "execution_count": 45,
   "id": "7f8d689f-b7bb-443c-9b88-e40c1d800828",
   "metadata": {
    "tags": []
   },
   "outputs": [],
   "source": [
    "test_data = test.as_numpy_iterator()"
   ]
  },
  {
   "cell_type": "code",
   "execution_count": 103,
   "id": "38546dc2-bee9-4837-864b-8a884df40ad7",
   "metadata": {
    "tags": []
   },
   "outputs": [],
   "source": [
    "#sample = test_data.next()"
   ]
  },
  {
   "cell_type": "code",
   "execution_count": 104,
   "id": "a43621f0-229d-4c0d-9554-9c3a3da9c61a",
   "metadata": {
    "tags": []
   },
   "outputs": [
    {
     "name": "stdout",
     "output_type": "stream",
     "text": [
      "1/1 [==============================] - 12s 12s/step\n"
     ]
    }
   ],
   "source": [
    "#yhat = model.predict(sample[0])"
   ]
  },
  {
   "cell_type": "markdown",
   "id": "64622f98-e99b-4fed-a2cc-f0da82eb5431",
   "metadata": {},
   "source": [
    "# Test on a Video"
   ]
  },
  {
   "cell_type": "code",
   "execution_count": 120,
   "id": "a8b0c4d0-2031-4331-b91d-d87b1ae6f6e2",
   "metadata": {},
   "outputs": [],
   "source": [
    "sample = load_data(tf.convert_to_tensor('.\\\\data\\\\s1\\\\bbwm5s.mpg'))"
   ]
  },
  {
   "cell_type": "code",
   "execution_count": 106,
   "id": "0cca60e4-47a9-4683-8a75-48f4684f723d",
   "metadata": {},
   "outputs": [
    {
     "name": "stdout",
     "output_type": "stream",
     "text": [
      "~~~~~~~~~~~~~~~~~~~~~~~~~~~~~~~~~~~~~~~~~~~~~~~~~~~~~~~~~~~~~~~~~~~~~~~~~~~~~~~~~~~~~~~~~~~~~~~~~~~~ REAL TEXT\n"
     ]
    },
    {
     "data": {
      "text/plain": [
       "[<tf.Tensor: shape=(), dtype=string, numpy=b'bin blue with m five soon'>]"
      ]
     },
     "execution_count": 106,
     "metadata": {},
     "output_type": "execute_result"
    }
   ],
   "source": [
    "print('~'*100, 'REAL TEXT')\n",
    "[tf.strings.reduce_join([num_to_char(word) for word in sentence]) for sentence in [sample[1]]]"
   ]
  },
  {
   "cell_type": "code",
   "execution_count": 107,
   "id": "8cc5037c-1e32-435c-b0cc-01e1fb3b863c",
   "metadata": {},
   "outputs": [
    {
     "name": "stdout",
     "output_type": "stream",
     "text": [
      "1/1 [==============================] - 3s 3s/step\n"
     ]
    }
   ],
   "source": [
    "yhat = model.predict(tf.expand_dims(sample[0], axis=0))"
   ]
  },
  {
   "cell_type": "code",
   "execution_count": 108,
   "id": "22c4f77d-715d-409f-bc5e-3ebe48704e8f",
   "metadata": {},
   "outputs": [],
   "source": [
    "decoded = tf.keras.backend.ctc_decode(yhat, input_length=[75], greedy=True)[0][0].numpy()"
   ]
  },
  {
   "cell_type": "code",
   "execution_count": 109,
   "id": "e4d12ecc-b634-499e-a4bc-db9f010835fb",
   "metadata": {},
   "outputs": [
    {
     "name": "stdout",
     "output_type": "stream",
     "text": [
      "~~~~~~~~~~~~~~~~~~~~~~~~~~~~~~~~~~~~~~~~~~~~~~~~~~~~~~~~~~~~~~~~~~~~~~~~~~~~~~~~~~~~~~~~~~~~~~~~~~~~ PREDICTIONS\n"
     ]
    },
    {
     "data": {
      "text/plain": [
       "[<tf.Tensor: shape=(), dtype=string, numpy=b'bin blue with five soon'>]"
      ]
     },
     "execution_count": 109,
     "metadata": {},
     "output_type": "execute_result"
    }
   ],
   "source": [
    "print('~'*100, 'PREDICTIONS')\n",
    "[tf.strings.reduce_join([num_to_char(word) for word in sentence]) for sentence in decoded]"
   ]
  },
  {
   "cell_type": "code",
   "execution_count": 110,
   "id": "50b47e41",
   "metadata": {},
   "outputs": [],
   "source": [
    "import ipywidgets as widgets\n",
    "from IPython.display import display, HTML, Video\n"
   ]
  },
  {
   "cell_type": "code",
   "execution_count": 46,
   "metadata": {},
   "outputs": [],
   "source": [
    "def predict_lip_reading(video_path):\n",
    "    # Load video and process it with your model (replace with your logic)\n",
    "    sample = load_data(tf.convert_to_tensor(video_path))\n",
    "    yhat = model.predict(tf.expand_dims(sample[0], axis=0))\n",
    "    decoded = tf.keras.backend.ctc_decode(yhat, input_length=[75], greedy=True)[0][0].numpy()\n",
    "    # Convert prediction to text\n",
    "    converted_prediction = [tf.strings.reduce_join([num_to_char(word) for word in sentence]) for sentence in decoded]\n",
    "    decoded_prediction = tf.strings.reduce_join(converted_prediction).numpy().decode('utf-8')\n",
    "    return decoded_prediction"
   ]
  },
  {
   "cell_type": "code",
   "execution_count": 112,
   "id": "37f83a34",
   "metadata": {},
   "outputs": [
    {
     "name": "stdout",
     "output_type": "stream",
     "text": [
      "1/1 [==============================] - 3s 3s/step\n"
     ]
    },
    {
     "data": {
      "text/plain": [
       "'bin blue at f two now'"
      ]
     },
     "execution_count": 112,
     "metadata": {},
     "output_type": "execute_result"
    }
   ],
   "source": [
    "predict_lip_reading('.\\\\uploads\\\\bbaf2n.mpg')"
   ]
  },
  {
   "cell_type": "code",
   "execution_count": 113,
   "id": "9523ea80",
   "metadata": {},
   "outputs": [],
   "source": [
    "# Create File Upload widget\n",
    "file_upload = widgets.FileUpload(\n",
    "    accept='.mpg',  # Specify accepted file type\n",
    "    multiple=False,  # Allow only one file to be uploaded\n",
    "    description='Upload Video'\n",
    ")\n",
    "\n",
    "# Create a Button widget\n",
    "predict_button = widgets.Button(\n",
    "    description='Predict',\n",
    "    disabled=True  # Disable button initially\n",
    ")\n",
    "\n",
    "# Create an Output widget for displaying predictions\n",
    "output_widget = widgets.Output(\n",
    "    description='Output',\n",
    ")"
   ]
  },
  {
   "cell_type": "code",
   "execution_count": 48,
   "id": "fd9f7a50",
   "metadata": {},
   "outputs": [
    {
     "name": "stdout",
     "output_type": "stream",
     "text": [
      "1/1 [==============================] - 3s 3s/step\n"
     ]
    },
    {
     "ename": "KeyboardInterrupt",
     "evalue": "",
     "output_type": "error",
     "traceback": [
      "\u001b[1;31m---------------------------------------------------------------------------\u001b[0m",
      "\u001b[1;31mKeyboardInterrupt\u001b[0m                         Traceback (most recent call last)",
      "Cell \u001b[1;32mIn[48], line 62\u001b[0m\n\u001b[0;32m     59\u001b[0m root\u001b[38;5;241m.\u001b[39mgeometry(\u001b[38;5;124mf\u001b[39m\u001b[38;5;124m\"\u001b[39m\u001b[38;5;132;01m{\u001b[39;00mroot\u001b[38;5;241m.\u001b[39mwinfo_reqwidth()\u001b[38;5;132;01m}\u001b[39;00m\u001b[38;5;124mx\u001b[39m\u001b[38;5;132;01m{\u001b[39;00mroot\u001b[38;5;241m.\u001b[39mwinfo_reqheight()\u001b[38;5;132;01m}\u001b[39;00m\u001b[38;5;124m+\u001b[39m\u001b[38;5;132;01m{\u001b[39;00mx_position\u001b[38;5;132;01m}\u001b[39;00m\u001b[38;5;124m+\u001b[39m\u001b[38;5;132;01m{\u001b[39;00my_position\u001b[38;5;132;01m}\u001b[39;00m\u001b[38;5;124m\"\u001b[39m)\n\u001b[0;32m     61\u001b[0m \u001b[38;5;66;03m# Start Tkinter event loop\u001b[39;00m\n\u001b[1;32m---> 62\u001b[0m root\u001b[38;5;241m.\u001b[39mmainloop()\n",
      "File \u001b[1;32mc:\\Users\\user\\anaconda3\\Lib\\tkinter\\__init__.py:1485\u001b[0m, in \u001b[0;36mMisc.mainloop\u001b[1;34m(self, n)\u001b[0m\n\u001b[0;32m   1483\u001b[0m \u001b[38;5;28;01mdef\u001b[39;00m \u001b[38;5;21mmainloop\u001b[39m(\u001b[38;5;28mself\u001b[39m, n\u001b[38;5;241m=\u001b[39m\u001b[38;5;241m0\u001b[39m):\n\u001b[0;32m   1484\u001b[0m \u001b[38;5;250m    \u001b[39m\u001b[38;5;124;03m\"\"\"Call the mainloop of Tk.\"\"\"\u001b[39;00m\n\u001b[1;32m-> 1485\u001b[0m     \u001b[38;5;28mself\u001b[39m\u001b[38;5;241m.\u001b[39mtk\u001b[38;5;241m.\u001b[39mmainloop(n)\n",
      "\u001b[1;31mKeyboardInterrupt\u001b[0m: "
     ]
    }
   ],
   "source": [
    "import tkinter as tk\n",
    "from tkinter import filedialog\n",
    "import tensorflow as tf\n",
    "\n",
    "# Create Tkinter window\n",
    "root = tk.Tk()\n",
    "root.title(\"Visual Speech Recognition\")\n",
    "\n",
    "# Set background color to peach\n",
    "root.configure(bg='#FFDAB9')  # Peach color\n",
    "\n",
    "# Set default font style and size\n",
    "default_font = ('Times New Roman', 14)\n",
    "\n",
    "# Create File Upload function\n",
    "def upload_video():\n",
    "    file_path = filedialog.askopenfilename(filetypes=[(\"Video Files\", \"*.mpg\")])\n",
    "    uploaded_label.config(text=f\"Uploaded: {file_path}\")\n",
    "\n",
    "# Create Predict function\n",
    "def predict_lip_reading():\n",
    "    video_path = uploaded_label.cget(\"text\").replace(\"Uploaded: \", \"\")\n",
    "    # Add your lip reading prediction logic here\n",
    "    sample = load_data(tf.convert_to_tensor(video_path))\n",
    "    yhat = model.predict(tf.expand_dims(sample[0], axis=0))\n",
    "    decoded = tf.keras.backend.ctc_decode(yhat, input_length=[75], greedy=True)[0][0].numpy()\n",
    "    converted_prediction = [tf.strings.reduce_join([num_to_char(word) for word in sentence]) for sentence in decoded]\n",
    "    decoded_prediction = tf.strings.reduce_join(converted_prediction).numpy().decode('utf-8')\n",
    "    \n",
    "    # Display the prediction on the Tkinter window with black text\n",
    "    prediction_label.config(text=f\"Decoded Prediction: {decoded_prediction}\", fg='black')\n",
    "\n",
    "# Create a top heading\n",
    "heading_label = tk.Label(root, text=\"Visual Speech Recognition\", bg='#FFDAB9', fg='#008CBA', font=('Times New Roman', 24, 'bold'))  # Peach color, blue text, bold font\n",
    "heading_label.pack(pady=10)\n",
    "\n",
    "# Create File Upload button\n",
    "upload_button = tk.Button(root, text=\"Upload Video\", command=upload_video, bg='#FF6347', fg='black', font=default_font)  # Tomato color, black text\n",
    "upload_button.pack(pady=10)\n",
    "\n",
    "# Label to display uploaded file path\n",
    "uploaded_label = tk.Label(root, text=\"Uploaded: None\", bg='#FFDAB9', fg='black', font=default_font)  # Peach color, black text\n",
    "uploaded_label.pack(pady=10)\n",
    "\n",
    "# Create Predict button\n",
    "predict_button = tk.Button(root, text=\"Predict Lip Reading\", command=predict_lip_reading, bg='#008CBA', fg='black', font=default_font)  # Blue color, black text\n",
    "predict_button.pack(pady=10)\n",
    "\n",
    "# Label to display the prediction\n",
    "prediction_label = tk.Label(root, text=\"Decoded Prediction: \", bg='#FFDAB9', fg='black', font=('Times New Roman', 18, 'bold'))  # Peach color, black text, bold font\n",
    "prediction_label.pack(pady=10)\n",
    "\n",
    "# Add top margin of 50 pixels\n",
    "top_margin = 50\n",
    "screen_width = root.winfo_screenwidth()\n",
    "screen_height = root.winfo_screenheight()\n",
    "x_position = int((screen_width - root.winfo_reqwidth()) / 2)\n",
    "y_position = int((screen_height - root.winfo_reqheight()) / 2) - top_margin\n",
    "root.geometry(f\"{root.winfo_reqwidth()}x{root.winfo_reqheight()}+{x_position}+{y_position}\")\n",
    "\n",
    "# Start Tkinter event loop\n",
    "root.mainloop()\n"
   ]
  },
  {
   "cell_type": "markdown",
   "id": "5084b996",
   "metadata": {},
   "source": [
    "save using pickle\n"
   ]
  },
  {
   "cell_type": "markdown",
   "id": "f44b0ffd",
   "metadata": {},
   "source": [
    "TSET USING LOADED MODEL"
   ]
  },
  {
   "cell_type": "code",
   "execution_count": 116,
   "id": "ce383ef9",
   "metadata": {},
   "outputs": [],
   "source": [
    "#########################################################final frontend#############################################3\n",
    "import tkinter as tk\n",
    "from tkinter import filedialog\n",
    "import tensorflow as tf\n",
    "\n",
    "# Create Tkinter window\n",
    "root = tk.Tk()\n",
    "root.title(\"Visual Speech Recognition\")\n",
    "\n",
    "# Set background color to peach\n",
    "root.configure(bg='#FFDAB9')  # Peach color\n",
    "\n",
    "# Set default font style and size\n",
    "default_font = ('Times New Roman', 14)\n",
    "\n",
    "# Create File Upload function\n",
    "def upload_video():\n",
    "    file_path = filedialog.askopenfilename(filetypes=[(\"Video Files\", \"*.mpg\")])\n",
    "    uploaded_label.config(text=f\"Uploaded: {file_path}\")\n",
    "\n",
    "# Create Predict function\n",
    "def predict_lip_reading():\n",
    "    video_path = uploaded_label.cget(\"text\").replace(\"Uploaded: \", \"\")\n",
    "    # Add your lip reading prediction logic here\n",
    "    sample = load_data(tf.convert_to_tensor(video_path))\n",
    "    yhat = model.predict(tf.expand_dims(sample[0], axis=0))\n",
    "    decoded = tf.keras.backend.ctc_decode(yhat, input_length=[75], greedy=True)[0][0].numpy()\n",
    "    converted_prediction = [tf.strings.reduce_join([num_to_char(word) for word in sentence]) for sentence in decoded]\n",
    "    decoded_prediction = tf.strings.reduce_join(converted_prediction).numpy().decode('utf-8')\n",
    "    \n",
    "    # Display the prediction on the Tkinter window with white text\n",
    "    prediction_label.config(text=f\"Decoded Prediction: {decoded_prediction}\", fg='white')\n",
    "\n",
    "# Create a top heading\n",
    "heading_label = tk.Label(root, text=\"Visual Speech Recognition\", bg='#FFDAB9', fg='#008CBA', font=('Times New Roman', 24, 'bold'))  # Peach color, blue text, bold font\n",
    "heading_label.pack(pady=10)\n",
    "\n",
    "# Create File Upload button\n",
    "upload_button = tk.Button(root, text=\"Upload Video\", command=upload_video, bg='#FF6347', fg='white', font=default_font)  # Tomato color, white text\n",
    "upload_button.pack(pady=10)\n",
    "\n",
    "# Label to display uploaded file path\n",
    "uploaded_label = tk.Label(root, text=\"Uploaded: None\", bg='#FFDAB9', fg='white', font=default_font)  # Peach color, white text\n",
    "uploaded_label.pack(pady=10)\n",
    "\n",
    "# Create Predict button\n",
    "predict_button = tk.Button(root, text=\"Predict Lip Reading\", command=predict_lip_reading, bg='#008CBA', fg='white', font=default_font)  # Blue color, white text\n",
    "predict_button.pack(pady=10)\n",
    "\n",
    "# Label to display the prediction\n",
    "prediction_label = tk.Label(root, text=\"Decoded Prediction: \", bg='#FFDAB9', fg='white', font=('Times New Roman', 18, 'bold'))  # Peach color, white text, bold font\n",
    "prediction_label.pack(pady=10)\n",
    "\n",
    "# Add top margin of 50 pixels\n",
    "top_margin = 50\n",
    "screen_width = root.winfo_screenwidth()\n",
    "screen_height = root.winfo_screenheight()\n",
    "x_position = int((screen_width - root.winfo_reqwidth()) / 2)\n",
    "y_position = int((screen_height - root.winfo_reqheight()) / 2) - top_margin\n",
    "root.geometry(f\"{root.winfo_reqwidth()}x{root.winfo_reqheight()}+{x_position}+{y_position}\")\n",
    "\n",
    "# Start Tkinter event loop\n",
    "root.mainloop()\n"
   ]
  },
  {
   "cell_type": "code",
   "execution_count": null,
   "id": "1f84776d",
   "metadata": {},
   "outputs": [],
   "source": []
  }
 ],
 "metadata": {
  "kernelspec": {
   "display_name": "Python 3",
   "language": "python",
   "name": "python3"
  },
  "language_info": {
   "codemirror_mode": {
    "name": "ipython",
    "version": 3
   },
   "file_extension": ".py",
   "mimetype": "text/x-python",
   "name": "python",
   "nbconvert_exporter": "python",
   "pygments_lexer": "ipython3",
   "version": "3.11.4"
  }
 },
 "nbformat": 4,
 "nbformat_minor": 5
}
